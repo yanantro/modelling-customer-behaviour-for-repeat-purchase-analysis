{
 "cells": [
  {
   "cell_type": "markdown",
   "id": "e0d5c0e6-e9bf-4688-8b60-11bfc054476d",
   "metadata": {},
   "source": [
    "# **Import**"
   ]
  },
  {
   "cell_type": "code",
   "execution_count": 1,
   "id": "da54a9f9-4d43-4de4-8e03-d7a84b176a29",
   "metadata": {},
   "outputs": [],
   "source": [
    "import pandas as pd\n",
    "import numpy as np\n",
    "import seaborn as sns\n",
    "from tabulate import tabulate\n",
    "import matplotlib.pyplot as plt\n",
    "pd.set_option('display.max_columns', None)"
   ]
  },
  {
   "cell_type": "code",
   "execution_count": 2,
   "id": "2f1ec93a-31f7-4d45-8acb-8ab4ed7eb96e",
   "metadata": {},
   "outputs": [],
   "source": [
    "df_original = pd.read_excel('/Users/yana/Downloads/electronics.xlsx')"
   ]
  },
  {
   "cell_type": "markdown",
   "id": "b5b351fc-924d-41bd-81ab-f7b69e17c8c2",
   "metadata": {},
   "source": [
    "# **Data preparation**"
   ]
  },
  {
   "cell_type": "code",
   "execution_count": 3,
   "id": "808ac49f-8226-46b5-abc5-a360ccf31b89",
   "metadata": {},
   "outputs": [],
   "source": [
    "df = df_original.copy()"
   ]
  },
  {
   "cell_type": "code",
   "execution_count": 3,
   "id": "c1405de7-4d2f-4d73-b2f0-0ea5e39cc323",
   "metadata": {},
   "outputs": [],
   "source": [
    "df = df_original.copy()"
   ]
  },
  {
   "cell_type": "code",
   "execution_count": 4,
   "id": "6bb080b2-9343-433b-9827-78198d32d6b2",
   "metadata": {
    "scrolled": true
   },
   "outputs": [
    {
     "data": {
      "text/html": [
       "<div>\n",
       "<style scoped>\n",
       "    .dataframe tbody tr th:only-of-type {\n",
       "        vertical-align: middle;\n",
       "    }\n",
       "\n",
       "    .dataframe tbody tr th {\n",
       "        vertical-align: top;\n",
       "    }\n",
       "\n",
       "    .dataframe thead th {\n",
       "        text-align: right;\n",
       "    }\n",
       "</style>\n",
       "<table border=\"1\" class=\"dataframe\">\n",
       "  <thead>\n",
       "    <tr style=\"text-align: right;\">\n",
       "      <th></th>\n",
       "      <th>Order_ID</th>\n",
       "      <th>Email_new</th>\n",
       "      <th>Phone_new</th>\n",
       "      <th>Source</th>\n",
       "      <th>OrderDate</th>\n",
       "      <th>время</th>\n",
       "      <th>месяц</th>\n",
       "      <th>ChangeDate</th>\n",
       "      <th>DeliveryDate</th>\n",
       "      <th>PaymentDate</th>\n",
       "      <th>Status</th>\n",
       "      <th>Status_ID</th>\n",
       "      <th>OneClick</th>\n",
       "      <th>CancelReason</th>\n",
       "      <th>Actions</th>\n",
       "      <th>DeliveryType</th>\n",
       "      <th>PaymentType</th>\n",
       "      <th>Region</th>\n",
       "      <th>Area</th>\n",
       "      <th>Store_ID</th>\n",
       "      <th>FullSum</th>\n",
       "      <th>Discount</th>\n",
       "      <th>IM_Rozn_Sum</th>\n",
       "      <th>Row_ID</th>\n",
       "      <th>Articul</th>\n",
       "      <th>Nom_Name</th>\n",
       "      <th>NomGroup</th>\n",
       "      <th>Quant</th>\n",
       "      <th>RowPrice</th>\n",
       "      <th>RowDiscount</th>\n",
       "      <th>RowSum</th>\n",
       "      <th>Brand</th>\n",
       "      <th>TN</th>\n",
       "      <th>TK</th>\n",
       "      <th>NomFullPath</th>\n",
       "      <th>Week</th>\n",
       "      <th>Nom_ID</th>\n",
       "    </tr>\n",
       "  </thead>\n",
       "  <tbody>\n",
       "    <tr>\n",
       "      <th>0</th>\n",
       "      <td>1303000509_TT</td>\n",
       "      <td>55666668105117_iu29@yandex.ru</td>\n",
       "      <td>55485656-57565656575275</td>\n",
       "      <td>Онлайн-Резерв.</td>\n",
       "      <td>2016-03-30</td>\n",
       "      <td>08:46:30.000</td>\n",
       "      <td>201603</td>\n",
       "      <td>2016-03-30 09:31:57.000</td>\n",
       "      <td>2016-04-06 00:00:00.000</td>\n",
       "      <td>1900-01-01 00:00:00.000</td>\n",
       "      <td>Отменен</td>\n",
       "      <td>17</td>\n",
       "      <td>0</td>\n",
       "      <td>Тестовый заказ</td>\n",
       "      <td>NaN</td>\n",
       "      <td>Самовывоз</td>\n",
       "      <td>Наличные</td>\n",
       "      <td>Москва</td>\n",
       "      <td>Москва</td>\n",
       "      <td>3066</td>\n",
       "      <td>39519.00</td>\n",
       "      <td>0.0</td>\n",
       "      <td>39519.00</td>\n",
       "      <td>1.0</td>\n",
       "      <td>1157790.0</td>\n",
       "      <td>Доставка до точки выдачи</td>\n",
       "      <td>Доставка</td>\n",
       "      <td>1.0</td>\n",
       "      <td>0.0</td>\n",
       "      <td>0.0</td>\n",
       "      <td>0.0</td>\n",
       "      <td>NaN</td>\n",
       "      <td>NaN</td>\n",
       "      <td>NaN</td>\n",
       "      <td>Услуги/Доставка/</td>\n",
       "      <td>13.0</td>\n",
       "      <td>35554.0</td>\n",
       "    </tr>\n",
       "    <tr>\n",
       "      <th>1</th>\n",
       "      <td>1303000509_TT</td>\n",
       "      <td>55666668105117_iu29@yandex.ru</td>\n",
       "      <td>55485656-57565656575275</td>\n",
       "      <td>Онлайн-Резерв.</td>\n",
       "      <td>2016-03-30</td>\n",
       "      <td>08:46:30.000</td>\n",
       "      <td>201603</td>\n",
       "      <td>2016-03-30 09:31:57.000</td>\n",
       "      <td>2016-04-06 00:00:00.000</td>\n",
       "      <td>1900-01-01 00:00:00.000</td>\n",
       "      <td>Отменен</td>\n",
       "      <td>17</td>\n",
       "      <td>0</td>\n",
       "      <td>Тестовый заказ</td>\n",
       "      <td>NaN</td>\n",
       "      <td>Самовывоз</td>\n",
       "      <td>Наличные</td>\n",
       "      <td>Москва</td>\n",
       "      <td>Москва</td>\n",
       "      <td>3066</td>\n",
       "      <td>39519.00</td>\n",
       "      <td>0.0</td>\n",
       "      <td>39519.00</td>\n",
       "      <td>3.0</td>\n",
       "      <td>1138110.0</td>\n",
       "      <td>\"Гарант +\" - Договор страхования, обеспечивающ...</td>\n",
       "      <td>Гарант +</td>\n",
       "      <td>1.0</td>\n",
       "      <td>3520.0</td>\n",
       "      <td>0.0</td>\n",
       "      <td>3520.0</td>\n",
       "      <td>NaN</td>\n",
       "      <td>NaN</td>\n",
       "      <td>NaN</td>\n",
       "      <td>Услуги/Страхование техники/Гарант +/</td>\n",
       "      <td>13.0</td>\n",
       "      <td>16686.0</td>\n",
       "    </tr>\n",
       "    <tr>\n",
       "      <th>2</th>\n",
       "      <td>1303000509_TT</td>\n",
       "      <td>55666668105117_iu29@yandex.ru</td>\n",
       "      <td>55485656-57565656575275</td>\n",
       "      <td>Онлайн-Резерв.</td>\n",
       "      <td>2016-03-30</td>\n",
       "      <td>08:46:30.000</td>\n",
       "      <td>201603</td>\n",
       "      <td>2016-03-30 09:31:57.000</td>\n",
       "      <td>2016-04-06 00:00:00.000</td>\n",
       "      <td>1900-01-01 00:00:00.000</td>\n",
       "      <td>Отменен</td>\n",
       "      <td>17</td>\n",
       "      <td>0</td>\n",
       "      <td>Тестовый заказ</td>\n",
       "      <td>NaN</td>\n",
       "      <td>Самовывоз</td>\n",
       "      <td>Наличные</td>\n",
       "      <td>Москва</td>\n",
       "      <td>Москва</td>\n",
       "      <td>3066</td>\n",
       "      <td>39519.00</td>\n",
       "      <td>0.0</td>\n",
       "      <td>39519.00</td>\n",
       "      <td>2.0</td>\n",
       "      <td>1180135.0</td>\n",
       "      <td>Телевизор LED Samsung UE-40J6200AU Smart</td>\n",
       "      <td>Smart телевизоры</td>\n",
       "      <td>1.0</td>\n",
       "      <td>35999.0</td>\n",
       "      <td>0.0</td>\n",
       "      <td>35999.0</td>\n",
       "      <td>Samsung</td>\n",
       "      <td>ТВ-Аудио</td>\n",
       "      <td>Телевизоры LCD</td>\n",
       "      <td>Телевизоры, аудио, видео/Телевизоры/Smart теле...</td>\n",
       "      <td>13.0</td>\n",
       "      <td>95567.0</td>\n",
       "    </tr>\n",
       "    <tr>\n",
       "      <th>3</th>\n",
       "      <td>1303000510_TT</td>\n",
       "      <td>55666668105117_iu29@yandex.ru</td>\n",
       "      <td>55485656-57565656575275</td>\n",
       "      <td>Онлайн-Резерв.</td>\n",
       "      <td>2016-03-30</td>\n",
       "      <td>11:22:51.000</td>\n",
       "      <td>201603</td>\n",
       "      <td>2016-03-30 11:24:32.000</td>\n",
       "      <td>2016-04-06 00:00:00.000</td>\n",
       "      <td>1900-01-01 00:00:00.000</td>\n",
       "      <td>Отменен</td>\n",
       "      <td>17</td>\n",
       "      <td>0</td>\n",
       "      <td>Тестовый заказ</td>\n",
       "      <td>NaN</td>\n",
       "      <td>Курьерская</td>\n",
       "      <td>Наличные</td>\n",
       "      <td>Москва</td>\n",
       "      <td>Москва</td>\n",
       "      <td>2189</td>\n",
       "      <td>96665.66</td>\n",
       "      <td>0.0</td>\n",
       "      <td>96665.66</td>\n",
       "      <td>1.0</td>\n",
       "      <td>1104611.0</td>\n",
       "      <td>Доставка \"Стандарт\" зона 0</td>\n",
       "      <td>Доставка</td>\n",
       "      <td>1.0</td>\n",
       "      <td>490.0</td>\n",
       "      <td>0.0</td>\n",
       "      <td>490.0</td>\n",
       "      <td>NaN</td>\n",
       "      <td>NaN</td>\n",
       "      <td>NaN</td>\n",
       "      <td>Услуги/Доставка/</td>\n",
       "      <td>13.0</td>\n",
       "      <td>29329.0</td>\n",
       "    </tr>\n",
       "    <tr>\n",
       "      <th>4</th>\n",
       "      <td>1303000510_TT</td>\n",
       "      <td>55666668105117_iu29@yandex.ru</td>\n",
       "      <td>55485656-57565656575275</td>\n",
       "      <td>Онлайн-Резерв.</td>\n",
       "      <td>2016-03-30</td>\n",
       "      <td>11:22:51.000</td>\n",
       "      <td>201603</td>\n",
       "      <td>2016-03-30 11:24:32.000</td>\n",
       "      <td>2016-04-06 00:00:00.000</td>\n",
       "      <td>1900-01-01 00:00:00.000</td>\n",
       "      <td>Отменен</td>\n",
       "      <td>17</td>\n",
       "      <td>0</td>\n",
       "      <td>Тестовый заказ</td>\n",
       "      <td>NaN</td>\n",
       "      <td>Курьерская</td>\n",
       "      <td>Наличные</td>\n",
       "      <td>Москва</td>\n",
       "      <td>Москва</td>\n",
       "      <td>2189</td>\n",
       "      <td>96665.66</td>\n",
       "      <td>0.0</td>\n",
       "      <td>96665.66</td>\n",
       "      <td>4.0</td>\n",
       "      <td>1087811.0</td>\n",
       "      <td>Крепление LCD-телевизора на стену, подключение...</td>\n",
       "      <td>Установка и настройка ТВ</td>\n",
       "      <td>2.0</td>\n",
       "      <td>3990.0</td>\n",
       "      <td>0.0</td>\n",
       "      <td>7980.0</td>\n",
       "      <td>NaN</td>\n",
       "      <td>NaN</td>\n",
       "      <td>NaN</td>\n",
       "      <td>Установка и настройка техники/Установка и наст...</td>\n",
       "      <td>13.0</td>\n",
       "      <td>2748.0</td>\n",
       "    </tr>\n",
       "  </tbody>\n",
       "</table>\n",
       "</div>"
      ],
      "text/plain": [
       "        Order_ID                      Email_new                Phone_new  \\\n",
       "0  1303000509_TT  55666668105117_iu29@yandex.ru  55485656-57565656575275   \n",
       "1  1303000509_TT  55666668105117_iu29@yandex.ru  55485656-57565656575275   \n",
       "2  1303000509_TT  55666668105117_iu29@yandex.ru  55485656-57565656575275   \n",
       "3  1303000510_TT  55666668105117_iu29@yandex.ru  55485656-57565656575275   \n",
       "4  1303000510_TT  55666668105117_iu29@yandex.ru  55485656-57565656575275   \n",
       "\n",
       "           Source  OrderDate         время   месяц               ChangeDate  \\\n",
       "0  Онлайн-Резерв. 2016-03-30  08:46:30.000  201603  2016-03-30 09:31:57.000   \n",
       "1  Онлайн-Резерв. 2016-03-30  08:46:30.000  201603  2016-03-30 09:31:57.000   \n",
       "2  Онлайн-Резерв. 2016-03-30  08:46:30.000  201603  2016-03-30 09:31:57.000   \n",
       "3  Онлайн-Резерв. 2016-03-30  11:22:51.000  201603  2016-03-30 11:24:32.000   \n",
       "4  Онлайн-Резерв. 2016-03-30  11:22:51.000  201603  2016-03-30 11:24:32.000   \n",
       "\n",
       "              DeliveryDate              PaymentDate   Status  Status_ID  \\\n",
       "0  2016-04-06 00:00:00.000  1900-01-01 00:00:00.000  Отменен         17   \n",
       "1  2016-04-06 00:00:00.000  1900-01-01 00:00:00.000  Отменен         17   \n",
       "2  2016-04-06 00:00:00.000  1900-01-01 00:00:00.000  Отменен         17   \n",
       "3  2016-04-06 00:00:00.000  1900-01-01 00:00:00.000  Отменен         17   \n",
       "4  2016-04-06 00:00:00.000  1900-01-01 00:00:00.000  Отменен         17   \n",
       "\n",
       "   OneClick    CancelReason Actions DeliveryType PaymentType  Region    Area  \\\n",
       "0         0  Тестовый заказ     NaN    Самовывоз    Наличные  Москва  Москва   \n",
       "1         0  Тестовый заказ     NaN    Самовывоз    Наличные  Москва  Москва   \n",
       "2         0  Тестовый заказ     NaN    Самовывоз    Наличные  Москва  Москва   \n",
       "3         0  Тестовый заказ     NaN   Курьерская    Наличные  Москва  Москва   \n",
       "4         0  Тестовый заказ     NaN   Курьерская    Наличные  Москва  Москва   \n",
       "\n",
       "   Store_ID   FullSum  Discount  IM_Rozn_Sum  Row_ID    Articul  \\\n",
       "0      3066  39519.00       0.0     39519.00     1.0  1157790.0   \n",
       "1      3066  39519.00       0.0     39519.00     3.0  1138110.0   \n",
       "2      3066  39519.00       0.0     39519.00     2.0  1180135.0   \n",
       "3      2189  96665.66       0.0     96665.66     1.0  1104611.0   \n",
       "4      2189  96665.66       0.0     96665.66     4.0  1087811.0   \n",
       "\n",
       "                                            Nom_Name  \\\n",
       "0                           Доставка до точки выдачи   \n",
       "1  \"Гарант +\" - Договор страхования, обеспечивающ...   \n",
       "2           Телевизор LED Samsung UE-40J6200AU Smart   \n",
       "3                         Доставка \"Стандарт\" зона 0   \n",
       "4  Крепление LCD-телевизора на стену, подключение...   \n",
       "\n",
       "                   NomGroup  Quant  RowPrice  RowDiscount   RowSum    Brand  \\\n",
       "0                  Доставка    1.0       0.0          0.0      0.0      NaN   \n",
       "1                  Гарант +    1.0    3520.0          0.0   3520.0      NaN   \n",
       "2          Smart телевизоры    1.0   35999.0          0.0  35999.0  Samsung   \n",
       "3                  Доставка    1.0     490.0          0.0    490.0      NaN   \n",
       "4  Установка и настройка ТВ    2.0    3990.0          0.0   7980.0      NaN   \n",
       "\n",
       "         TN              TK  \\\n",
       "0       NaN             NaN   \n",
       "1       NaN             NaN   \n",
       "2  ТВ-Аудио  Телевизоры LCD   \n",
       "3       NaN             NaN   \n",
       "4       NaN             NaN   \n",
       "\n",
       "                                         NomFullPath  Week   Nom_ID  \n",
       "0                                   Услуги/Доставка/  13.0  35554.0  \n",
       "1               Услуги/Страхование техники/Гарант +/  13.0  16686.0  \n",
       "2  Телевизоры, аудио, видео/Телевизоры/Smart теле...  13.0  95567.0  \n",
       "3                                   Услуги/Доставка/  13.0  29329.0  \n",
       "4  Установка и настройка техники/Установка и наст...  13.0   2748.0  "
      ]
     },
     "execution_count": 4,
     "metadata": {},
     "output_type": "execute_result"
    }
   ],
   "source": [
    "df.head()"
   ]
  },
  {
   "cell_type": "code",
   "execution_count": 5,
   "id": "9e565548-2538-4daa-a122-683487de3d33",
   "metadata": {},
   "outputs": [
    {
     "name": "stdout",
     "output_type": "stream",
     "text": [
      "| Column       |   Count Unique |   Count Zeros |   Count NaNs |   % of NaNs | data type      |\n",
      "|--------------+----------------+---------------+--------------+-------------+----------------|\n",
      "| Order_ID     |         166794 |             0 |            0 |         0   | object         |\n",
      "| Email_new    |          99284 |         61516 |            0 |         0   | object         |\n",
      "| Phone_new    |         123135 |          7575 |            0 |         0   | object         |\n",
      "| Source       |              4 |             0 |            0 |         0   | object         |\n",
      "| OrderDate    |             61 |             0 |            0 |         0   | datetime64[ns] |\n",
      "| время        |          58549 |             0 |            0 |         0   | object         |\n",
      "| месяц        |              2 |             0 |            0 |         0   | int64          |\n",
      "| ChangeDate   |         155189 |             0 |            0 |         0   | object         |\n",
      "| DeliveryDate |            100 |             0 |            0 |         0   | object         |\n",
      "| PaymentDate  |         105118 |             0 |            0 |         0   | object         |\n",
      "| Status       |             15 |             0 |            0 |         0   | object         |\n",
      "| Status_ID    |             15 |             0 |            0 |         0   | int64          |\n",
      "| OneClick     |              2 |        326057 |            0 |         0   | int64          |\n",
      "| CancelReason |             34 |             0 |       230868 |        64.7 | object         |\n",
      "| Actions      |             41 |             0 |       261496 |        73.2 | object         |\n",
      "| DeliveryType |              2 |             0 |         8285 |         2.3 | object         |\n",
      "| PaymentType  |              7 |             0 |            0 |         0   | object         |\n",
      "| Region       |             73 |             0 |            2 |         0   | object         |\n",
      "| Area         |             61 |             0 |         1631 |         0.5 | object         |\n",
      "| Store_ID     |            167 |           965 |            0 |         0   | int64          |\n",
      "| FullSum      |          15995 |            65 |           20 |         0   | float64        |\n",
      "| Discount     |           1920 |        309994 |           20 |         0   | float64        |\n",
      "| IM_Rozn_Sum  |          20622 |          5574 |           20 |         0   | float64        |\n",
      "| Row_ID       |             41 |             0 |           20 |         0   | float64        |\n",
      "| Articul      |          26930 |             0 |           20 |         0   | float64        |\n",
      "| Nom_Name     |          26888 |             0 |           58 |         0   | object         |\n",
      "| NomGroup     |            849 |             0 |           20 |         0   | object         |\n",
      "| Quant        |             43 |             5 |           20 |         0   | float64        |\n",
      "| RowPrice     |           9601 |        152336 |           20 |         0   | float64        |\n",
      "| RowDiscount  |           2006 |        333347 |           20 |         0   | float64        |\n",
      "| RowSum       |          12377 |        152813 |           20 |         0   | float64        |\n",
      "| Brand        |           1179 |             0 |       166141 |        46.5 | object         |\n",
      "| TN           |             17 |             0 |       166101 |        46.5 | object         |\n",
      "| TK           |            112 |             0 |       166101 |        46.5 | object         |\n",
      "| NomFullPath  |            878 |             0 |           20 |         0   | object         |\n",
      "| Week         |              9 |             0 |           20 |         0   | float64        |\n",
      "| Nom_ID       |          26928 |             3 |           20 |         0   | float64        |\n"
     ]
    }
   ],
   "source": [
    "def columnValues(df):\n",
    "    row = [df.nunique(), (df == 0).sum(axis=0), df.isna().sum(), round(df.isna().sum() / len(df) * 100, 1), df.dtypes]\n",
    "    return row\n",
    "\n",
    "data = []\n",
    "for column in df:\n",
    "    data.append([column] + columnValues(df[column]))\n",
    "\n",
    "print(tabulate(data, headers=['Column', 'Count Unique', 'Count Zeros', 'Count NaNs','% of NaNs', 'data type'], tablefmt='orgtbl'))"
   ]
  },
  {
   "cell_type": "code",
   "execution_count": 6,
   "id": "9ae135fe-f7e7-4e3d-8c39-219d5966e928",
   "metadata": {},
   "outputs": [
    {
     "data": {
      "text/plain": [
       "(357036, 37)"
      ]
     },
     "execution_count": 6,
     "metadata": {},
     "output_type": "execute_result"
    }
   ],
   "source": [
    "df.shape"
   ]
  },
  {
   "cell_type": "code",
   "execution_count": 7,
   "id": "c37a234f-a4d6-43cd-97ca-90b35486f7e4",
   "metadata": {},
   "outputs": [],
   "source": [
    "#delete Email_new column\n",
    "df = df.drop(columns=['Email_new'])"
   ]
  },
  {
   "cell_type": "code",
   "execution_count": 8,
   "id": "656db8e8-43df-4c78-9773-6acab1ab3b34",
   "metadata": {},
   "outputs": [
    {
     "data": {
      "text/plain": [
       "(357036, 36)"
      ]
     },
     "execution_count": 8,
     "metadata": {},
     "output_type": "execute_result"
    }
   ],
   "source": [
    "df.shape"
   ]
  },
  {
   "cell_type": "code",
   "execution_count": 9,
   "id": "17ff8885-4d03-44bb-ae78-221bd25b6a21",
   "metadata": {},
   "outputs": [],
   "source": [
    "#delete rows with null phone numbers\n",
    "df = df.loc[df['Phone_new'] != 0]"
   ]
  },
  {
   "cell_type": "code",
   "execution_count": 10,
   "id": "5fa508da-cb73-4fe9-938d-736addfc2c34",
   "metadata": {},
   "outputs": [
    {
     "data": {
      "text/plain": [
       "(349461, 36)"
      ]
     },
     "execution_count": 10,
     "metadata": {},
     "output_type": "execute_result"
    }
   ],
   "source": [
    "df.shape"
   ]
  },
  {
   "cell_type": "code",
   "execution_count": 11,
   "id": "f249e54a-3e66-40a2-b5ae-5c89819e6aee",
   "metadata": {},
   "outputs": [],
   "source": [
    "#delete cheques with negative discounts (possible system errors)\n",
    "df = df.loc[~df['Order_ID'].isin(['5429143_BX', '5581960_BX', '5826714_BX'])]"
   ]
  },
  {
   "cell_type": "code",
   "execution_count": 12,
   "id": "5830095a-5cbd-4697-8f12-17e96ffea3f3",
   "metadata": {},
   "outputs": [
    {
     "data": {
      "text/plain": [
       "(349451, 36)"
      ]
     },
     "execution_count": 12,
     "metadata": {},
     "output_type": "execute_result"
    }
   ],
   "source": [
    "df.shape"
   ]
  },
  {
   "cell_type": "code",
   "execution_count": 13,
   "id": "0422cd7a-f685-4d77-8928-ec8095c7593f",
   "metadata": {},
   "outputs": [],
   "source": [
    "#delete rows with null RowSum values, as we don't need \"free\" products\n",
    "df = df.loc[df['RowSum'] != 0]"
   ]
  },
  {
   "cell_type": "code",
   "execution_count": 14,
   "id": "0081faf4-b710-4d0b-ac5d-713a00b9f331",
   "metadata": {},
   "outputs": [
    {
     "data": {
      "text/plain": [
       "(200233, 36)"
      ]
     },
     "execution_count": 14,
     "metadata": {},
     "output_type": "execute_result"
    }
   ],
   "source": [
    "df.shape"
   ]
  },
  {
   "cell_type": "code",
   "execution_count": 15,
   "id": "5a5f1a03-3ff9-4c4a-b266-4dc9ec5b9300",
   "metadata": {},
   "outputs": [],
   "source": [
    "#see the share of discount from the real cost of goods, record in additionally created column DiscountPercent\n",
    "df['DiscountPercent'] = df['RowDiscount'] / (df['RowSum'] + df['RowDiscount'])"
   ]
  },
  {
   "cell_type": "code",
   "execution_count": 16,
   "id": "d43c23b0-d98b-4e1b-aed0-8c8ff77db376",
   "metadata": {},
   "outputs": [],
   "source": [
    "#removing strings at over 90% off\n",
    "df = df.loc[df['DiscountPercent'] < 0.9]\n",
    "df = df.drop(columns = ['DiscountPercent'])"
   ]
  },
  {
   "cell_type": "code",
   "execution_count": 17,
   "id": "cb6f6c25-6325-4024-90a3-eb515ab62a3f",
   "metadata": {},
   "outputs": [
    {
     "data": {
      "text/plain": [
       "(200202, 36)"
      ]
     },
     "execution_count": 17,
     "metadata": {},
     "output_type": "execute_result"
    }
   ],
   "source": [
    "df.shape"
   ]
  },
  {
   "cell_type": "code",
   "execution_count": 18,
   "id": "924e4842-6fd8-476d-a2c7-d268c09771a4",
   "metadata": {},
   "outputs": [],
   "source": [
    "df = df.drop(columns=['OrderDate', 'время', 'ChangeDate', 'DeliveryDate', 'Status_ID', 'OneClick', 'Actions', \n",
    "                      'DeliveryType', 'Area', 'Store_ID', 'Discount', 'IM_Rozn_Sum', 'Row_ID', 'Articul',\n",
    "                      'Brand', 'NomFullPath', 'Week', 'Nom_ID'])"
   ]
  },
  {
   "cell_type": "code",
   "execution_count": 19,
   "id": "ffc13f6e-bfea-4420-b568-a8ef0331b972",
   "metadata": {},
   "outputs": [
    {
     "data": {
      "text/plain": [
       "array(['Тестовый заказ', 'Клиент не пришел за заказом',\n",
       "       'Нет связи с клиентом', nan, 'Нет партнерского товара',\n",
       "       'Витринный образец/Брак товара', 'Несколько заказов',\n",
       "       'Клиент передумал', 'Не поступила оплата',\n",
       "       'Нарушение сроков доставки', 'Купил в магазине',\n",
       "       'Дублирование заказа',\n",
       "       'Клиент отказался назвать причину  отмены заказа',\n",
       "       'Не устроила дата доставки',\n",
       "       'Не устроила дата доставки партнерского товара', 'Нет товара',\n",
       "       'Не устроила цена', 'Не устроила цена партнерского товара',\n",
       "       'Не устроили характеристики товара', 'Неполные данные в заказе',\n",
       "       'Дублирование заказа техническое', 'Другое (указать в примечании)',\n",
       "       'Негативные отзывы о товара', 'Отказ при осмотре',\n",
       "       'Ошибка в модели', 'Отказ в выдаче кредита',\n",
       "       'Не устроил срок обработки заказа', 'Качество товара',\n",
       "       'Витрина/брак/некондиция/качество товара',\n",
       "       'Не устроило время доставки', 'Негативные отзывы о компании',\n",
       "       'Не устроили дата/время доставки', 'Ошибка поставки', 'Контент',\n",
       "       'Ошибка в информации о товаре'], dtype=object)"
      ]
     },
     "execution_count": 19,
     "metadata": {},
     "output_type": "execute_result"
    }
   ],
   "source": [
    "df.CancelReason.unique()"
   ]
  },
  {
   "cell_type": "code",
   "execution_count": 20,
   "id": "33ff3832-d099-4cf6-9add-530b96354d73",
   "metadata": {},
   "outputs": [],
   "source": [
    "# delete lines with errors, duplicated and test orders\n",
    "# (CancelReason - reason for order cancellation)\n",
    "df = df.loc[~df['CancelReason'].isin(['Тестовый заказ', 'Несколько заказов', 'Дублирование заказа',\n",
    "                  'Дублирование заказа техническое', 'Ошибка в модели'])]"
   ]
  },
  {
   "cell_type": "code",
   "execution_count": 21,
   "id": "640b04c1-608a-45c5-9e0a-23dfed12b894",
   "metadata": {
    "scrolled": true
   },
   "outputs": [
    {
     "data": {
      "text/plain": [
       "array(['Отменен', 'Выдан клиенту', 'Отказ на месте',\n",
       "       'Доставлен в магазин', 'Доставлен частично в магазин',\n",
       "       'Согласован', 'Собран', 'В обработке', 'Передан на доставку',\n",
       "       'Дубль заказа', 'Подтвержден на доставку', 'Ожидает осмотра',\n",
       "       'Не собран', 'Собран частично'], dtype=object)"
      ]
     },
     "execution_count": 21,
     "metadata": {},
     "output_type": "execute_result"
    }
   ],
   "source": [
    "df.Status.unique()"
   ]
  },
  {
   "cell_type": "code",
   "execution_count": 22,
   "id": "98dbd579-52c0-468d-a804-556bfbd3b74d",
   "metadata": {},
   "outputs": [],
   "source": [
    "#The Status column can also be used to exclude duplicate orders\n",
    "df = df.loc[~df['Status'].isin(['Дубль заказа'])]"
   ]
  },
  {
   "cell_type": "code",
   "execution_count": 23,
   "id": "b55dd3e0-a397-41c6-96a5-5d1dcbe685d6",
   "metadata": {},
   "outputs": [
    {
     "data": {
      "text/plain": [
       "array(['Услуги'], dtype=object)"
      ]
     },
     "execution_count": 23,
     "metadata": {},
     "output_type": "execute_result"
    }
   ],
   "source": [
    "#find all services in the NomGroup column (while creating an auxiliary dataframe with values containing \"services\")\n",
    "df_1= df[df['NomGroup'].str.contains('услуг', regex=False, case=False, na=False)]\n",
    "df_1.NomGroup.unique()"
   ]
  },
  {
   "cell_type": "code",
   "execution_count": 24,
   "id": "4ba1431d-db95-49b5-be08-3e2a2d93c19a",
   "metadata": {},
   "outputs": [],
   "source": [
    "#remove items from the NomGroup category - Services\n",
    "df = df.loc[df['NomGroup'] != 'Услуги']"
   ]
  },
  {
   "cell_type": "code",
   "execution_count": 25,
   "id": "8ab6d278-5be5-4707-ab35-f064af192e89",
   "metadata": {},
   "outputs": [
    {
     "data": {
      "text/plain": [
       "array(['Доставка'], dtype=object)"
      ]
     },
     "execution_count": 25,
     "metadata": {},
     "output_type": "execute_result"
    }
   ],
   "source": [
    "#in the NomGroup column, delete all deliveries\n",
    "df_2= df[df['NomGroup'].str.contains('достав', regex=False, case=False, na=False)]\n",
    "df_2.NomGroup.unique()"
   ]
  },
  {
   "cell_type": "code",
   "execution_count": 26,
   "id": "7d43050c-066c-417c-acb2-7b622404f91a",
   "metadata": {},
   "outputs": [],
   "source": [
    "df = df.loc[df['NomGroup'] != 'Доставка']"
   ]
  },
  {
   "cell_type": "code",
   "execution_count": 27,
   "id": "2350e69b-8b15-4ca3-abcc-8f1f0e4ab819",
   "metadata": {},
   "outputs": [
    {
     "data": {
      "text/plain": [
       "(183221, 18)"
      ]
     },
     "execution_count": 27,
     "metadata": {},
     "output_type": "execute_result"
    }
   ],
   "source": [
    "df.shape"
   ]
  },
  {
   "cell_type": "code",
   "execution_count": 28,
   "id": "64fea7e8-65c9-45ce-a206-2a47c6ba4136",
   "metadata": {},
   "outputs": [],
   "source": [
    "#сolumns Region are filled with the names of the corresponding federal districts\n",
    "df['Region'] = df['Region'].replace(['Москва', 'Белгород', 'Владимир', 'Воронеж', 'Иваново', 'Калуга', 'Кострома', 'Курск', 'Липецк', 'Люберцы', 'Мытищи', \n",
    "                                     'Подольск', 'Рязань', 'Сергиев Посад', 'Серпухов', 'Смоленск', 'Тамбов', 'Тверь', 'Тула', 'Ярославль'], 'Центральный ф.о.')\n",
    "df['Region'] = df['Region'].replace(['Великий Новгород', 'Вологда', 'Воркута', 'Всеволожск', 'Выборг', 'Гатчина', 'Кингисепп', 'Кириши', 'Колпино', 'Мурманск', \n",
    "                                     'Петрозаводск', 'Псков', 'Пушкин', 'Санкт-Петербург', 'Тихвин', 'Череповец'], 'Северо-Западный ф.о.')\n",
    "df['Region'] = df['Region'].replace(['Ижевск', 'Казань', 'Набережные Челны', 'Нижний Новгород', 'Новокуйбышевск', 'Пенза', 'Пермь', 'Самара', 'Саратов', \n",
    "                                     'Тольятти', 'Ульяновск', 'Уфа', 'Чебоксары'], 'Приволжский ф.о.')\n",
    "df['Region'] = df['Region'].replace(['Барнаул', 'Горно-Алтайск', 'Иркутск', 'Кемерово', 'Красноярск', 'Новокузнецк', 'Новосибирск', 'Омск', 'Томск'], 'Сибирский ф.о.')\n",
    "df['Region'] = df['Region'].replace(['Волгоград', 'Краснодар', 'Новочеркасск', 'Пятигорск', 'Ростов-на-Дону', 'Сочи', 'Ставрополь'], 'Южный ф.о.')\n",
    "df['Region'] = df['Region'].replace(['Екатеринбург', 'Нижневартовск', 'Нижний Тагил', 'Ноябрьск', 'Сургут', 'Тюмень', 'Челябинск'], 'Уральский ф.о.')"
   ]
  },
  {
   "cell_type": "code",
   "execution_count": 29,
   "id": "44849910-d64b-4d7d-8f97-5fb394cab199",
   "metadata": {},
   "outputs": [],
   "source": [
    "df['Region'] = df['Region'].replace({'Владивосток': 'Дальневосточный ф.о.'})"
   ]
  },
  {
   "cell_type": "code",
   "execution_count": 30,
   "id": "370e5a42-0997-4dc8-bf05-7ea1f6a929b2",
   "metadata": {},
   "outputs": [
    {
     "data": {
      "text/plain": [
       "array(['Центральный ф.о.', 'Северо-Западный ф.о.', 'Сибирский ф.о.',\n",
       "       'Приволжский ф.о.', 'Уральский ф.о.', 'Южный ф.о.',\n",
       "       'Дальневосточный ф.о.', nan], dtype=object)"
      ]
     },
     "execution_count": 30,
     "metadata": {},
     "output_type": "execute_result"
    }
   ],
   "source": [
    "df.Region.unique()"
   ]
  },
  {
   "cell_type": "code",
   "execution_count": 31,
   "id": "a998d6bd-cf90-4c86-a4e4-ef09d2210d1a",
   "metadata": {},
   "outputs": [
    {
     "data": {
      "text/plain": [
       "(183221, 18)"
      ]
     },
     "execution_count": 31,
     "metadata": {},
     "output_type": "execute_result"
    }
   ],
   "source": [
    "df.shape"
   ]
  },
  {
   "cell_type": "code",
   "execution_count": 32,
   "id": "7638337f-27cd-47e8-b722-5e9a5ac1f045",
   "metadata": {},
   "outputs": [
    {
     "name": "stdout",
     "output_type": "stream",
     "text": [
      "| Column       |   Count Unique |   Count Zeros |   Count NaNs |   % of NaNs | data type   |\n",
      "|--------------+----------------+---------------+--------------+-------------+-------------|\n",
      "| Order_ID     |         158988 |             0 |            0 |         0   | object      |\n",
      "| Phone_new    |         122711 |             0 |            0 |         0   | object      |\n",
      "| Source       |              4 |             0 |            0 |         0   | object      |\n",
      "| месяц        |              2 |             0 |            0 |         0   | int64       |\n",
      "| PaymentDate  |         102269 |             0 |            0 |         0   | object      |\n",
      "| Status       |             13 |             0 |            0 |         0   | object      |\n",
      "| CancelReason |             29 |             0 |       121014 |        66   | object      |\n",
      "| PaymentType  |              7 |             0 |            0 |         0   | object      |\n",
      "| Region       |              7 |             0 |            1 |         0   | object      |\n",
      "| FullSum      |          15797 |             0 |            0 |         0   | float64     |\n",
      "| Nom_Name     |          26669 |             0 |           10 |         0   | object      |\n",
      "| NomGroup     |            845 |             0 |            0 |         0   | object      |\n",
      "| Quant        |             43 |             1 |            0 |         0   | float64     |\n",
      "| RowPrice     |           9560 |             1 |            0 |         0   | float64     |\n",
      "| RowDiscount  |           1980 |        160560 |            0 |         0   | float64     |\n",
      "| RowSum       |          12292 |             0 |            0 |         0   | float64     |\n",
      "| TN           |             17 |             0 |         1338 |         0.7 | object      |\n",
      "| TK           |            112 |             0 |         1338 |         0.7 | object      |\n"
     ]
    }
   ],
   "source": [
    "#view of our data after the transformations have been performed\n",
    "def columnValues(df):\n",
    "    row = [df.nunique(), (df == 0).sum(axis=0), df.isna().sum(), round(df.isna().sum() / len(df) * 100, 1), df.dtypes]\n",
    "    return row\n",
    "\n",
    "data_1 = []\n",
    "for column in df:\n",
    "    data_1.append([column] + columnValues(df[column]))\n",
    "\n",
    "print(tabulate(data_1, headers=['Column', 'Count Unique', 'Count Zeros', 'Count NaNs','% of NaNs', 'data type'], tablefmt='orgtbl'))"
   ]
  },
  {
   "cell_type": "markdown",
   "id": "28a1b2db-9176-4c18-9a2c-2fa17820dbcc",
   "metadata": {},
   "source": [
    "(there is one line left with a blank region, it will be further excluded, because the order is cancelled)"
   ]
  },
  {
   "cell_type": "markdown",
   "id": "bcf8ff80-85dd-4265-acd0-616de763783b",
   "metadata": {},
   "source": [
    "**Let's examine the TN and Nom_Name columns in more detail. When reviewing the uploaded preliminary table, it was found that the missing TN values are various installation, customisation services, etc. They should be excluded.**"
   ]
  },
  {
   "cell_type": "code",
   "execution_count": 33,
   "id": "fe2e5d4a-dd11-41d4-94cb-660a0b0d0cbc",
   "metadata": {},
   "outputs": [
    {
     "data": {
      "text/plain": [
       "array(['Подкл.стир.,посудом.машин станд.устан.',\n",
       "       'Станд.установ.газ.плиты отдельностоящей',\n",
       "       'Установка холод.б/дораб.коммун+перев.дв',\n",
       "       'Установка напольного унитаза', 'Станд.установ.дух шкафа газ.',\n",
       "       'Станд.установ.вар.поверх.газ.',\n",
       "       'Подкл.накоп.водонаг.бол.30л ст.устан',\n",
       "       'Установка Bosch PLS 300+PTC 1 0603B04100',\n",
       "       'Станд.установ.кондиц.(модели 5,7,9,10)',\n",
       "       'Установочный набор Mystery MAK 2.08',\n",
       "       'Установка смесителя на гибкой подводке',\n",
       "       'Фигурка Schleich Черный мустанг на дыбах',\n",
       "       'Станд.установ.кондиц.(модели 12,13,14)'], dtype=object)"
      ]
     },
     "execution_count": 33,
     "metadata": {},
     "output_type": "execute_result"
    }
   ],
   "source": [
    "df_3= df[df['Nom_Name'].str.contains('устан', regex=False, case=False, na=False)]\n",
    "df_3.Nom_Name.unique()"
   ]
  },
  {
   "cell_type": "code",
   "execution_count": 34,
   "id": "b4ad4a63-ea5b-44b2-883d-8bf72819a8d2",
   "metadata": {},
   "outputs": [],
   "source": [
    "df = df.loc[~df['Nom_Name'].isin(['Подкл.стир.,посудом.машин станд.устан.',\n",
    "       'Станд.установ.газ.плиты отдельностоящей',\n",
    "       'Установка холод.б/дораб.коммун+перев.дв',\n",
    "       'Установка напольного унитаза', 'Станд.установ.дух шкафа газ.',\n",
    "       'Станд.установ.вар.поверх.газ.',\n",
    "       'Подкл.накоп.водонаг.бол.30л ст.устан',\n",
    "       'Установка Bosch PLS 300+PTC 1 0603B04100',\n",
    "       'Станд.установ.кондиц.(модели 5,7,9,10)',\n",
    "       'Установочный набор Mystery MAK 2.08',\n",
    "       'Установка смесителя на гибкой подводке',\n",
    "       'Станд.установ.кондиц.(модели 12,13,14)'])]"
   ]
  },
  {
   "cell_type": "code",
   "execution_count": 35,
   "id": "7d03036b-dc3b-471d-8061-07655ff855c1",
   "metadata": {},
   "outputs": [
    {
     "data": {
      "text/plain": [
       "array(['Подкл.стир.,посудом.машин с частич.дораб',\n",
       "       'Подкл.встр.СМА,ПМ/маш к готов.коммун', 'Подкл. варочной панели',\n",
       "       'Подкл. духового шкафа', 'ТВ-модуль АКАДО Телеком Подключи сам!',\n",
       "       'Подкл.холодильника: б/дораб.коммуникаций',\n",
       "       'Подкл.СМА,посудом.с доработкой сантех',\n",
       "       'Подкл. эл.плиты отдельностоящей',\n",
       "       'Подкл.встр.СМА,ПМ/маш с дораб.сантех+эл',\n",
       "       'Подключение GROHE Euphoria Cube 27704000',\n",
       "       'Подкл.СМА,посудом.с дораб.сантех+электр.',\n",
       "       'Подкл.варочной панели и духового шкафа',\n",
       "       'Подкл. холодильника встраив.',\n",
       "       'Крепление LCD-телевизора на стену, подключение, настройка и сортировка каналов (размер диагонали 41-47\")',\n",
       "       'Подкл.накоп.водонаг.до 30л с доработк.',\n",
       "       'Подключение GROHE Relexa 28628000',\n",
       "       'Подкл.накоп.водонаг.бол.30л с дораб',\n",
       "       'Подкл.холод Side by Side дораб.коммун.',\n",
       "       'Подключение GROHE Relexa 28671000',\n",
       "       'Подключение стиральной машины (Эконом)',\n",
       "       'Крепление LCD-телевизора на стену, подключение, настройка и сортировка каналов (размер диагонали 33-40\")'],\n",
       "      dtype=object)"
      ]
     },
     "execution_count": 35,
     "metadata": {},
     "output_type": "execute_result"
    }
   ],
   "source": [
    "df_4= df[df['Nom_Name'].str.contains('подк', regex=False, case=False, na=False)]\n",
    "df_4.Nom_Name.unique()"
   ]
  },
  {
   "cell_type": "code",
   "execution_count": 36,
   "id": "ef02ee13-eb76-45f1-8eb1-c199e09df6ac",
   "metadata": {},
   "outputs": [],
   "source": [
    "df = df.loc[~df['Nom_Name'].isin(['Подкл.стир.,посудом.машин с частич.дораб',\n",
    "       'Подкл.встр.СМА,ПМ/маш к готов.коммун', 'Подкл. варочной панели',\n",
    "       'Подкл. духового шкафа',\n",
    "       'Подкл.холодильника: б/дораб.коммуникаций',\n",
    "       'Подкл.СМА,посудом.с доработкой сантех',\n",
    "       'Подкл. эл.плиты отдельностоящей',\n",
    "       'Подкл.встр.СМА,ПМ/маш с дораб.сантех+эл',\n",
    "       'Подключение GROHE Euphoria Cube 27704000',\n",
    "       'Подкл.СМА,посудом.с дораб.сантех+электр.',\n",
    "       'Подкл.варочной панели и духового шкафа',\n",
    "       'Подкл. холодильника встраив.',\n",
    "       'Крепление LCD-телевизора на стену, подключение, настройка и сортировка каналов (размер диагонали 41-47\")',\n",
    "       'Подкл.накоп.водонаг.до 30л с доработк.',\n",
    "       'Подключение GROHE Relexa 28628000',\n",
    "       'Подкл.накоп.водонаг.бол.30л с дораб',\n",
    "       'Подкл.холод Side by Side дораб.коммун.',\n",
    "       'Подключение GROHE Relexa 28671000',\n",
    "       'Подключение стиральной машины (Эконом)',\n",
    "       'Крепление LCD-телевизора на стену, подключение, настройка и сортировка каналов (размер диагонали 33-40\")'])]"
   ]
  },
  {
   "cell_type": "code",
   "execution_count": 37,
   "id": "21f84829-3a6b-40dd-b469-408090c1d628",
   "metadata": {},
   "outputs": [
    {
     "data": {
      "text/plain": [
       "array(['Сборка мебели от стоимости от 0-12000',\n",
       "       'Сборка мебели от стоимости от 12001-24000',\n",
       "       'Сборка мебели и тумб для ПК и ТВ'], dtype=object)"
      ]
     },
     "execution_count": 37,
     "metadata": {},
     "output_type": "execute_result"
    }
   ],
   "source": [
    "df_5= df[df['Nom_Name'].str.contains('сборк', regex=False, case=False, na=False)]\n",
    "df_5.Nom_Name.unique()"
   ]
  },
  {
   "cell_type": "code",
   "execution_count": 38,
   "id": "64925feb-e621-424a-a648-b2d9b383fba6",
   "metadata": {},
   "outputs": [],
   "source": [
    "df = df.loc[~df['Nom_Name'].isin(['Сборка мебели от стоимости от 0-12000',\n",
    "       'Сборка мебели от стоимости от 12001-24000',\n",
    "       'Сборка мебели и тумб для ПК и ТВ'])]"
   ]
  },
  {
   "cell_type": "code",
   "execution_count": 39,
   "id": "0dd683f2-594b-4d95-930a-c55aa421a282",
   "metadata": {},
   "outputs": [
    {
     "data": {
      "text/plain": [
       "array(['Программа дополнительного сервисного обслуживания Сервис + на 2 года',\n",
       "       'Программа дополнительного сервисного обслуживания Сервис + на 1 год',\n",
       "       'Программа дополнительного сервисного обслуживания Сервис + на 3 года',\n",
       "       'Сервис+2.0 на 1 год', 'Сервис+2.0 на 2 года',\n",
       "       'Сервис+2.0 на 3 года'], dtype=object)"
      ]
     },
     "execution_count": 39,
     "metadata": {},
     "output_type": "execute_result"
    }
   ],
   "source": [
    "df_6= df[df['Nom_Name'].str.contains('сервис', regex=False, case=False, na=False)]\n",
    "df_6.Nom_Name.unique()"
   ]
  },
  {
   "cell_type": "code",
   "execution_count": 40,
   "id": "54a45f7c-9dd8-4e60-8616-0d19c599d658",
   "metadata": {},
   "outputs": [],
   "source": [
    "df = df.loc[~df['Nom_Name'].isin(['Программа дополнительного сервисного обслуживания Сервис + на 2 года',\n",
    "       'Программа дополнительного сервисного обслуживания Сервис + на 1 год',\n",
    "       'Программа дополнительного сервисного обслуживания Сервис + на 3 года',\n",
    "       'Сервис+2.0 на 1 год', 'Сервис+2.0 на 2 года',\n",
    "       'Сервис+2.0 на 3 года'])]"
   ]
  },
  {
   "cell_type": "code",
   "execution_count": 41,
   "id": "746a918c-358b-4ec9-b97e-885e487fe394",
   "metadata": {},
   "outputs": [
    {
     "data": {
      "text/plain": [
       "array(['Набор Bonita Настроение 20100212661',\n",
       "       'Настройка LCD-телевизора, сортировка каналов',\n",
       "       'Крепление LCD-телевизора на стену без настройки и сортировки каналов (размер диагонали 48-55\")',\n",
       "       'Крепление LCD-телевизора на стену без настройки и сортировки каналов (размер диагонали 41-47\")'],\n",
       "      dtype=object)"
      ]
     },
     "execution_count": 41,
     "metadata": {},
     "output_type": "execute_result"
    }
   ],
   "source": [
    "df_7= df[df['Nom_Name'].str.contains('настро', regex=False, case=False, na=False)]\n",
    "df_7.Nom_Name.unique()"
   ]
  },
  {
   "cell_type": "code",
   "execution_count": 42,
   "id": "767c8ea2-2e10-44a3-82fe-76bd1955bedc",
   "metadata": {},
   "outputs": [
    {
     "data": {
      "text/plain": [
       "array(['Полировщик Bellissima 5154 д/ногтей',\n",
       "       'Игрушка SIKU Тягач с вертолетом. полиц.',\n",
       "       'Каталка Italtrike Полицейская машина гол',\n",
       "       'Полис Ринко \"Защита МАКС\"',\n",
       "       'Набор Welly Военно-полицейская команда',\n",
       "       'Игра Hasbro Монополия всемирная',\n",
       "       'Сумка Targus TBS045EU 16\" полиэстер',\n",
       "       'Сумка Targus TSS124EU 16\" полиэстер', 'КПБ Нежность Полина 1502',\n",
       "       'Игра Hasbro Монополия Миллионер',\n",
       "       'Игра Hasbro Моя первая монополия'], dtype=object)"
      ]
     },
     "execution_count": 42,
     "metadata": {},
     "output_type": "execute_result"
    }
   ],
   "source": [
    "df_8= df[df['Nom_Name'].str.contains('поли', regex=False, case=False, na=False)]\n",
    "df_8.Nom_Name.unique()"
   ]
  },
  {
   "cell_type": "code",
   "execution_count": 43,
   "id": "b469491a-7cba-4ee1-b737-28e4119cb428",
   "metadata": {},
   "outputs": [],
   "source": [
    "df = df.loc[~df['Nom_Name'].isin(['Настройка LCD-телевизора, сортировка каналов',\n",
    "       'Крепление LCD-телевизора на стену без настройки и сортировки каналов (размер диагонали 48-55\")', \n",
    "       'Крепление LCD-телевизора на стену без настройки и сортировки каналов (размер диагонали 41-47\")', \n",
    "       'Полис Ринко \"Защита МАКС\"'])]"
   ]
  },
  {
   "cell_type": "code",
   "execution_count": 44,
   "id": "1c43cbad-feec-4720-91fc-79a596a6e38c",
   "metadata": {},
   "outputs": [
    {
     "data": {
      "text/plain": [
       "array(['«Гарант +» - Договор страхования, обеспечивающий защиту техники от негарантийной поломки, механического повреждения'],\n",
       "      dtype=object)"
      ]
     },
     "execution_count": 44,
     "metadata": {},
     "output_type": "execute_result"
    }
   ],
   "source": [
    "df_9= df[df['Nom_Name'].str.contains('гарант', regex=False, case=False, na=False)]\n",
    "df_9.Nom_Name.unique()"
   ]
  },
  {
   "cell_type": "code",
   "execution_count": 45,
   "id": "e728aa01-74e1-4b32-a203-286e6de7d9f6",
   "metadata": {},
   "outputs": [
    {
     "data": {
      "text/plain": [
       "array(['Навес вытяжки кам.типа б/воздуховода',\n",
       "       'Навес вытяжки встраив. б/воздуховода',\n",
       "       'Навес вытяжки плоской б/воздуховода'], dtype=object)"
      ]
     },
     "execution_count": 45,
     "metadata": {},
     "output_type": "execute_result"
    }
   ],
   "source": [
    "df_10= df[df['Nom_Name'].str.contains('навес', regex=False, case=False, na=False)]\n",
    "df_10.Nom_Name.unique()"
   ]
  },
  {
   "cell_type": "code",
   "execution_count": 46,
   "id": "8395b18e-f17a-4df8-9f11-5f399b3bf5fe",
   "metadata": {},
   "outputs": [
    {
     "data": {
      "text/plain": [
       "array(['Лента Scotch 411-Med-RU монтажная',\n",
       "       'АКЦИЯ! Монтаж спутниковой антенны до 89см на балкон'],\n",
       "      dtype=object)"
      ]
     },
     "execution_count": 46,
     "metadata": {},
     "output_type": "execute_result"
    }
   ],
   "source": [
    "df_11= df[df['Nom_Name'].str.contains('монтаж', regex=False, case=False, na=False)]\n",
    "df_11.Nom_Name.unique()"
   ]
  },
  {
   "cell_type": "code",
   "execution_count": 47,
   "id": "60b1014b-7143-4ac0-97cc-f2be476e8459",
   "metadata": {},
   "outputs": [],
   "source": [
    "df = df.loc[~df['Nom_Name'].isin(['Гарантийный талон Bosch (эл.инструмент)',\n",
    "       '«Гарант +» - Договор страхования, обеспечивающий защиту техники от негарантийной поломки, механического повреждения', \n",
    "       'Навес вытяжки кам.типа б/воздуховода', 'Навес вытяжки встраив. б/воздуховода',\n",
    "       'Навес вытяжки плоской б/воздуховода', 'АКЦИЯ! Монтаж спутниковой антенны до 89см на балкон'])]"
   ]
  },
  {
   "cell_type": "code",
   "execution_count": 48,
   "id": "98c78594-820c-44fc-83ca-30b0690afb01",
   "metadata": {},
   "outputs": [
    {
     "data": {
      "text/plain": [
       "(181911, 18)"
      ]
     },
     "execution_count": 48,
     "metadata": {},
     "output_type": "execute_result"
    }
   ],
   "source": [
    "df.shape"
   ]
  },
  {
   "cell_type": "code",
   "execution_count": 49,
   "id": "532c3736-af87-45d6-b8dd-4c6cecd63f2f",
   "metadata": {},
   "outputs": [
    {
     "name": "stdout",
     "output_type": "stream",
     "text": [
      "| Column       |   Count Unique |   Count Zeros |   Count NaNs |   % of NaNs | data type   |\n",
      "|--------------+----------------+---------------+--------------+-------------+-------------|\n",
      "| Order_ID     |         158974 |             0 |            0 |           0 | object      |\n",
      "| Phone_new    |         122706 |             0 |            0 |           0 | object      |\n",
      "| Source       |              4 |             0 |            0 |           0 | object      |\n",
      "| месяц        |              2 |             0 |            0 |           0 | int64       |\n",
      "| PaymentDate  |         102261 |             0 |            0 |           0 | object      |\n",
      "| Status       |             13 |             0 |            0 |           0 | object      |\n",
      "| CancelReason |             29 |             0 |       120148 |          66 | object      |\n",
      "| PaymentType  |              7 |             0 |            0 |           0 | object      |\n",
      "| Region       |              7 |             0 |            1 |           0 | object      |\n",
      "| FullSum      |          15797 |             0 |            0 |           0 | float64     |\n",
      "| Nom_Name     |          26619 |             0 |           10 |           0 | object      |\n",
      "| NomGroup     |            836 |             0 |            0 |           0 | object      |\n",
      "| Quant        |             43 |             1 |            0 |           0 | float64     |\n",
      "| RowPrice     |           9519 |             1 |            0 |           0 | float64     |\n",
      "| RowDiscount  |           1980 |        159253 |            0 |           0 | float64     |\n",
      "| RowSum       |          12263 |             0 |            0 |           0 | float64     |\n",
      "| TN           |             17 |             0 |           38 |           0 | object      |\n",
      "| TK           |            112 |             0 |           38 |           0 | object      |\n"
     ]
    }
   ],
   "source": [
    "def columnValues(df):\n",
    "    row = [df.nunique(), (df == 0).sum(axis=0), df.isna().sum(), round(df.isna().sum() / len(df) * 100, 1), df.dtypes]\n",
    "    return row\n",
    "\n",
    "data_3 = []\n",
    "for column in df:\n",
    "    data_3.append([column] + columnValues(df[column]))\n",
    "\n",
    "print(tabulate(data_3, headers=['Column', 'Count Unique', 'Count Zeros', 'Count NaNs','% of NaNs', 'data type'], tablefmt='orgtbl'))"
   ]
  },
  {
   "cell_type": "code",
   "execution_count": 50,
   "id": "87b53713-5737-47c2-9584-37afa83bb1ee",
   "metadata": {},
   "outputs": [],
   "source": [
    "#removal of rows with goods cheaper than 200 rubles (these are various batteries, napkins, spoons, etc.).\n",
    "df = df.loc[df['RowPrice'] > 200]"
   ]
  },
  {
   "cell_type": "code",
   "execution_count": 51,
   "id": "344609e9-94fb-4cf0-9753-081191d2a30b",
   "metadata": {},
   "outputs": [],
   "source": [
    "#we don't need the RowPrice column anymore\n",
    "df = df.drop(columns=['RowPrice'])"
   ]
  },
  {
   "cell_type": "code",
   "execution_count": 52,
   "id": "f0666ddc-f2f3-48ec-b695-9421e0ee0cf2",
   "metadata": {},
   "outputs": [
    {
     "data": {
      "text/plain": [
       "array(['Наличные', 'КартойПриПолучении', 'RBK Money', 'Кредит в магазине',\n",
       "       'PayPal', 'Квитанция Сбербанка', 'Банк Тинькофф'], dtype=object)"
      ]
     },
     "execution_count": 52,
     "metadata": {},
     "output_type": "execute_result"
    }
   ],
   "source": [
    "#payment methods reduced to online prepayment and postpayment (card and cash on receipt)\n",
    "df.PaymentType.unique()"
   ]
  },
  {
   "cell_type": "code",
   "execution_count": 53,
   "id": "7d412b7a-6935-441b-9127-8f674388e30f",
   "metadata": {},
   "outputs": [],
   "source": [
    "df['PaymentType'] = df['PaymentType'].replace({'КартойПриПолучении': 'при получении', 'Наличные': 'при получении',\n",
    "                                               'PayPal': 'предоплата онлайн', 'Квитанция Сбербанка': 'предоплата онлайн',\n",
    "                                               'RBK Money': 'предоплата онлайн', 'Кредит в магазине': 'предоплата онлайн',\n",
    "                                               'Банк Тинькофф': 'предоплата онлайн', })"
   ]
  },
  {
   "cell_type": "code",
   "execution_count": 54,
   "id": "1b5d11b6-508d-4e74-b7b0-621d003727b6",
   "metadata": {},
   "outputs": [
    {
     "data": {
      "text/plain": [
       "array(['Хозтовары', 'Телевизоры LCD', 'Картриджи и бумага', 'Плиты',\n",
       "       'Приготовление пищи', 'Портативная электроника',\n",
       "       'Красота и здоровье', 'Музыкальные инструменты', 'Электропитание',\n",
       "       'Мобильные средства связи', 'Гостиная', 'Игрушки',\n",
       "       'Велосипеды и аксессуары',\n",
       "       'Аксессуары для комп./ноутбуков/принтеров', 'Планшеты', 'Фитнес',\n",
       "       'Силовая и садовая техника', 'Инструменты', 'Встраиваемая техника',\n",
       "       'Автоэлектроника', 'Швейная техника', 'Стиральные машины',\n",
       "       'Уход за домом', 'Сантехника', 'Холодильное оборудование',\n",
       "       'Компьютеры настольные', 'Аксессуары для смартфонов и планшетов',\n",
       "       'Товары для кухни', 'Прихожая', 'Вентиляторы бытовые',\n",
       "       'Увлажнители', 'Игровые консоли', 'Посудомоечные машины',\n",
       "       'Офис и Кабинет', 'Носители информации', 'Прогулки и путешествие',\n",
       "       'Аксессуары для мебели', 'Периферийные устройства', 'Туризм',\n",
       "       'Тренажеры', 'Аксессуары для бытовой техники', 'СВЧ',\n",
       "       'Водонагреватели', 'Компьютеры портативные', 'Единоборства',\n",
       "       'Сетевое оборудование', 'Наушники', 'Детская комната',\n",
       "       'Аудио-Видео', 'Фотоаппараты', 'Зимние виды спорта', 'Спальня',\n",
       "       'Средства связи', 'Очистители воздуха', 'Игры для консолей',\n",
       "       'Тяжелая атлетика', 'Кормление', 'Кухня и Столовая',\n",
       "       'Аксессуары ТВ-Аудио', 'Воздухонагреватели', 'Текстиль',\n",
       "       'Антивирусные программы', 'Свет',\n",
       "       'Аксессуары для спортивных товаров', 'Операционные системы',\n",
       "       'Декор интерьера', 'Освещение', 'Аксессуары для фото/видео',\n",
       "       'Для мам', 'Автомультимедия', 'Сервировка стола', 'Камины',\n",
       "       'Кондиционеры', 'Активный отдых', 'Рыбалка', 'Подарки МБТ',\n",
       "       'Автопринадлежности', 'Аксессуары детство', 'Аудиомагнитолы',\n",
       "       'Автомагнитолы', 'Купание и уход', 'Командные виды спорта',\n",
       "       'Мягкая мебель', 'Встраиваемые духовые шкафы (VIP)', 'Видеокамеры',\n",
       "       nan, 'Аксессуары авто', 'Аксессуары для игровых приставок',\n",
       "       'Услуги по пластиковым картам', 'Контракты сотовой связи и НТВ+',\n",
       "       'Музыкальные центры', 'Умный дом',\n",
       "       'DVD/Blu-Ray плееры и компоненты', 'Hi-Fi компоненты', 'Навигация',\n",
       "       'Товары для автолюбителей', 'Индивидуальные виды спорта',\n",
       "       'DVD с записью', 'Ванна, баня и сауна', 'Автоакустика',\n",
       "       'Домашние театры', 'Ванная', 'Автоаудио', 'Сушильные машины',\n",
       "       'Аккумуляторы', 'Стиральные машины (VIP)',\n",
       "       'Материалы для инсталляции',\n",
       "       'Встраиваемые микроволновые печи (VIP)', 'Садовая мебель',\n",
       "       'Встраиваемые вытяжки (VIP)'], dtype=object)"
      ]
     },
     "execution_count": 54,
     "metadata": {},
     "output_type": "execute_result"
    }
   ],
   "source": [
    "df.TK.unique()"
   ]
  },
  {
   "cell_type": "code",
   "execution_count": 55,
   "id": "8fe179ee-3336-4c3e-a654-95e1ce31ba1d",
   "metadata": {},
   "outputs": [],
   "source": [
    "#under TK column exclude shop gifts, Plastic card services (gift vouchers), packaging and contracts with mobile and TV operators\n",
    "df = df.loc[~df['TK'].isin(['Подарки МБТ', 'Подарки КБТ', 'Услуги по пластиковым картам', 'Упаковка', 'Контракты сотовой связи и НТВ+'])]"
   ]
  },
  {
   "cell_type": "code",
   "execution_count": 56,
   "id": "eb426240-edf7-4b2a-8a04-7438a9852ab8",
   "metadata": {},
   "outputs": [
    {
     "data": {
      "text/plain": [
       "(178738, 17)"
      ]
     },
     "execution_count": 56,
     "metadata": {},
     "output_type": "execute_result"
    }
   ],
   "source": [
    "df.shape"
   ]
  },
  {
   "cell_type": "code",
   "execution_count": 57,
   "id": "10b4ced5-c190-4b44-bbd5-02770a612c0c",
   "metadata": {},
   "outputs": [
    {
     "name": "stdout",
     "output_type": "stream",
     "text": [
      "| Column       |   Count Unique |   Count Zeros |   Count NaNs |   % of NaNs | data type   |\n",
      "|--------------+----------------+---------------+--------------+-------------+-------------|\n",
      "| Order_ID     |         157433 |             0 |            0 |           0 | object      |\n",
      "| Phone_new    |         121964 |             0 |            0 |           0 | object      |\n",
      "| Source       |              4 |             0 |            0 |           0 | object      |\n",
      "| месяц        |              2 |             0 |            0 |           0 | int64       |\n",
      "| PaymentDate  |         101334 |             0 |            0 |           0 | object      |\n",
      "| Status       |             13 |             0 |            0 |           0 | object      |\n",
      "| CancelReason |             29 |             0 |       118042 |          66 | object      |\n",
      "| PaymentType  |              2 |             0 |            0 |           0 | object      |\n",
      "| Region       |              7 |             0 |            1 |           0 | object      |\n",
      "| FullSum      |          15633 |             0 |            0 |           0 | float64     |\n",
      "| Nom_Name     |          25861 |             0 |            3 |           0 | object      |\n",
      "| NomGroup     |            818 |             0 |            0 |           0 | object      |\n",
      "| Quant        |             42 |             0 |            0 |           0 | float64     |\n",
      "| RowDiscount  |           1978 |        156311 |            0 |           0 | float64     |\n",
      "| RowSum       |          12080 |             0 |            0 |           0 | float64     |\n",
      "| TN           |             15 |             0 |           38 |           0 | object      |\n",
      "| TK           |            106 |             0 |           38 |           0 | object      |\n"
     ]
    }
   ],
   "source": [
    "def columnValues(df):\n",
    "    row = [df.nunique(), (df == 0).sum(axis=0), df.isna().sum(), round(df.isna().sum() / len(df) * 100, 1), df.dtypes]\n",
    "    return row\n",
    "\n",
    "data_4 = []\n",
    "for column in df:\n",
    "    data_4.append([column] + columnValues(df[column]))\n",
    "\n",
    "print(tabulate(data_4, headers=['Column', 'Count Unique', 'Count Zeros', 'Count NaNs','% of NaNs', 'data type'], tablefmt='orgtbl'))"
   ]
  },
  {
   "cell_type": "code",
   "execution_count": 58,
   "id": "924e68d8-98c2-492a-bb1e-61d9e3c488c8",
   "metadata": {},
   "outputs": [
    {
     "data": {
      "text/plain": [
       "array(['Онлайн-Резерв.', 'Колл-центр', 'Сайт', 'Терминал'], dtype=object)"
      ]
     },
     "execution_count": 58,
     "metadata": {},
     "output_type": "execute_result"
    }
   ],
   "source": [
    "df.Source.unique()"
   ]
  },
  {
   "cell_type": "code",
   "execution_count": 59,
   "id": "217cbb8f-f0b0-44ee-8bad-c205f4764a9e",
   "metadata": {},
   "outputs": [],
   "source": [
    "df_reserved = df"
   ]
  },
  {
   "cell_type": "code",
   "execution_count": 60,
   "id": "8b1ac61c-8a5b-4603-92f2-9fd83749b113",
   "metadata": {},
   "outputs": [],
   "source": [
    "#keep only cheques with more than 2 items on them\n",
    "\n",
    "rows_per_order = (\n",
    "    df.groupby('Order_ID')\n",
    "      .size()\n",
    "      .reset_index(name='NumRows')\n",
    ")\n",
    "\n",
    "orders_gt2 = rows_per_order.loc[rows_per_order['NumRows'] >= 2, 'Order_ID']\n",
    "df = df[df['Order_ID'].isin(orders_gt2)].copy()\n"
   ]
  },
  {
   "cell_type": "code",
   "execution_count": 61,
   "id": "0dc96201-3615-406d-b297-08f3c521e348",
   "metadata": {},
   "outputs": [
    {
     "data": {
      "text/plain": [
       "(35566, 17)"
      ]
     },
     "execution_count": 61,
     "metadata": {},
     "output_type": "execute_result"
    }
   ],
   "source": [
    "df.shape"
   ]
  }
 ],
 "metadata": {
  "kernelspec": {
   "display_name": "Python 3 (ipykernel)",
   "language": "python",
   "name": "python3"
  },
  "language_info": {
   "codemirror_mode": {
    "name": "ipython",
    "version": 3
   },
   "file_extension": ".py",
   "mimetype": "text/x-python",
   "name": "python",
   "nbconvert_exporter": "python",
   "pygments_lexer": "ipython3",
   "version": "3.11.5"
  }
 },
 "nbformat": 4,
 "nbformat_minor": 5
}
