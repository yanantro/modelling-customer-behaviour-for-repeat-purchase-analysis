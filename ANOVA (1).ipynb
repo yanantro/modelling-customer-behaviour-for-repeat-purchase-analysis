{
 "cells": [
  {
   "cell_type": "markdown",
   "id": "8bc2addf-5a96-44b6-aae2-6a404101e4f3",
   "metadata": {},
   "source": [
    "# ANOVA test on EM"
   ]
  },
  {
   "cell_type": "markdown",
   "id": "ee0bb2d5-0a8b-4d4c-8742-8ce9c7e607a9",
   "metadata": {},
   "source": [
    "H_0: mean_0 = mean_1 \\\n",
    "H_1: mean_0 != mean_1 \\\n",
    "Если 𝑝 < 0.05 — то же самое, что 𝐹 > F critical -> отвергаем H_0"
   ]
  },
  {
   "cell_type": "code",
   "execution_count": 508,
   "id": "efd83213-92b5-43b8-ad6a-dd914dc7c4fc",
   "metadata": {},
   "outputs": [],
   "source": [
    "from scipy import stats\n",
    "df_em_7 = pd.read_excel(\"labels_for_7_klasters_EM.xlsx\")\n",
    "df_em_12 = pd.read_excel(\"labels_for_12_klasters_EM.xlsx\")"
   ]
  },
  {
   "cell_type": "markdown",
   "id": "3044cc81-6894-4502-b35d-83d30a570a18",
   "metadata": {},
   "source": [
    "## ANOVA for 7 clusters"
   ]
  },
  {
   "cell_type": "code",
   "execution_count": 509,
   "id": "0cfe095d-a863-4ed6-a1f6-e2537084bec2",
   "metadata": {},
   "outputs": [
    {
     "name": "stdout",
     "output_type": "stream",
     "text": [
      "                 feature   F_stat  p_value\n",
      "  Мелкая бытовая техника  552.784 0.000000\n",
      "            КОЛ-ВО ЧЕКОВ  816.140 0.000000\n",
      "          Онлайн-Резерв.  540.952 0.000000\n",
      "                  Мебель  335.442 0.000000\n",
      "  Спорт и активный отдых  920.092 0.000000\n",
      "         Товары для дома  279.033 0.000000\n",
      " Крупная бытовая техника 3181.746 0.000000\n",
      "              Колл-центр 1108.800 0.000000\n",
      "          Детские товары 1147.670 0.000000\n",
      "              Аксессуары 1707.837 0.000000\n",
      "        Цифровая Техника  571.422 0.000000\n",
      "             СРЕДНИЙ ЧЕК  690.910 0.000000\n",
      "                  Климат  288.233 0.000000\n",
      "              Сделай сам  569.103 0.000000\n",
      "           при получении  171.700 0.000000\n",
      "                ТВ-Аудио  119.919 0.000000\n",
      "        Центральный ф.о.   44.971 0.000000\n",
      "                Терминал   35.633 0.000000\n",
      "      СРЕД.КОЛ.ТОВ.вЧеке   33.068 0.000000\n",
      "            СУММА СКИДКИ   28.319 0.000000\n",
      "Игры, софт и развлечения   25.418 0.000000\n",
      "    Северо-Западный ф.о.   21.550 0.000000\n",
      "          Уральский ф.о.   20.267 0.000000\n",
      "              Южный ф.о.   16.549 0.000000\n",
      "                    Сайт   14.935 0.000000\n",
      "        Приволжский ф.о.   10.453 0.000000\n",
      "    Дальневосточный ф.о.    8.274 0.000000\n",
      "          Сибирский ф.о.    7.348 0.000000\n",
      "       предоплата онлайн    7.202 0.000000\n",
      "              Автотовары    2.271 0.034220\n"
     ]
    }
   ],
   "source": [
    "features = [c for c in df_em_7.columns if c not in ('Labels','id')]\n",
    "\n",
    "results = []\n",
    "for feat in features:\n",
    "    groups = [\n",
    "        df_em_7.loc[df_em_7['Labels'] == cl, feat].values\n",
    "        for cl in sorted(df_em_7['Labels'].unique())\n",
    "    ]\n",
    "    if any(len(g) < 2 for g in groups):\n",
    "        continue\n",
    "\n",
    "    f_stat, p_value = stats.f_oneway(*groups)\n",
    "    results.append({\n",
    "        'feature': feat,\n",
    "        'F_stat':  f_stat,        # оставляем чистым числом\n",
    "        'p_value': p_value\n",
    "    })\n",
    "\n",
    "anova_df = pd.DataFrame(results).sort_values('p_value')\n",
    "\n",
    "# Форматируем столбцы для вывода\n",
    "anova_df['F_stat']  = anova_df['F_stat'].map(lambda x: f\"{x:.3f}\")\n",
    "anova_df['p_value'] = anova_df['p_value'].map(lambda p: f\"{p:.6f}\")\n",
    "\n",
    "print(anova_df.to_string(index=False))\n"
   ]
  }
 ],
 "metadata": {
  "kernelspec": {
   "display_name": "Python 3 (ipykernel)",
   "language": "python",
   "name": "python3"
  },
  "language_info": {
   "codemirror_mode": {
    "name": "ipython",
    "version": 3
   },
   "file_extension": ".py",
   "mimetype": "text/x-python",
   "name": "python",
   "nbconvert_exporter": "python",
   "pygments_lexer": "ipython3",
   "version": "3.11.5"
  }
 },
 "nbformat": 4,
 "nbformat_minor": 5
}
